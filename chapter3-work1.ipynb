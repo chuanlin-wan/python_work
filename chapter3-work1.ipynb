{
 "cells": [
  {
   "cell_type": "code",
   "execution_count": 3,
   "id": "fddc6d87",
   "metadata": {},
   "outputs": [
    {
     "name": "stdout",
     "output_type": "stream",
     "text": [
      "請輸入密碼1234\n",
      "歡迎光臨\n"
     ]
    }
   ],
   "source": [
    "s = input(\"請輸入密碼\")\n",
    "\n",
    "if s == \"1234\":\n",
    "    print(\"歡迎光臨！\")\n",
    "else:\n",
    "    print(\"密碼錯誤！\")"
   ]
  },
  {
   "cell_type": "code",
   "execution_count": 21,
   "id": "77fa65c9",
   "metadata": {},
   "outputs": [
    {
     "name": "stdout",
     "output_type": "stream",
     "text": [
      "請輸入成績89\n",
      "甲等\n"
     ]
    }
   ],
   "source": [
    "a = float(input(\"請輸入成績\"))\n",
    "if a >= 90:\n",
    "    print(\"優等\")\n",
    "elif 90 > a >= 80:\n",
    "    print(\"甲等\")\n",
    "elif 80 > a >=70:\n",
    "    print(\"乙等\")\n",
    "elif 70 > a >=60:\n",
    "    print(\"丙等\")\n",
    "else:\n",
    "    print(\"丁等\")"
   ]
  },
  {
   "cell_type": "code",
   "execution_count": 30,
   "id": "2507e720",
   "metadata": {},
   "outputs": [
    {
     "name": "stdout",
     "output_type": "stream",
     "text": [
      "請輸入金額100010\n",
      "應付80008.0元\n"
     ]
    }
   ],
   "source": [
    "e = float(input(\"請輸入金額\"))\n",
    "\n",
    "if e >= 100000:\n",
    "    f = e * 0.8\n",
    "elif 100000 > e >= 50000:\n",
    "    f = e * 0.85\n",
    "elif 50000 > e >= 30000:\n",
    "    f = e * 0.9\n",
    "elif 30000 > e >= 10000:\n",
    "    f = e * 0.95\n",
    "else:\n",
    "    f = e * 1\n",
    "print(\"應付{:.1f}元\".format(f))\n",
    "    "
   ]
  },
  {
   "cell_type": "code",
   "execution_count": null,
   "id": "295891bc",
   "metadata": {},
   "outputs": [],
   "source": []
  },
  {
   "cell_type": "code",
   "execution_count": null,
   "id": "b95f18bb",
   "metadata": {},
   "outputs": [],
   "source": []
  }
 ],
 "metadata": {
  "kernelspec": {
   "display_name": "Python 3",
   "language": "python",
   "name": "python3"
  },
  "language_info": {
   "codemirror_mode": {
    "name": "ipython",
    "version": 3
   },
   "file_extension": ".py",
   "mimetype": "text/x-python",
   "name": "python",
   "nbconvert_exporter": "python",
   "pygments_lexer": "ipython3",
   "version": "3.8.8"
  }
 },
 "nbformat": 4,
 "nbformat_minor": 5
}
