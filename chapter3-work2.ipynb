{
 "cells": [
  {
   "cell_type": "code",
   "execution_count": 1,
   "id": "b036fd12",
   "metadata": {},
   "outputs": [
    {
     "name": "stdout",
     "output_type": "stream",
     "text": [
      "請輸入一正整數:10\n",
      "1,2,3,4,5,6,7,8,9,10,"
     ]
    }
   ],
   "source": [
    "a = int(input(\"請輸入一正整數:\"))\n",
    "for i in range (0,a):\n",
    "    i += 1\n",
    "    print(i, end = \",\")"
   ]
  },
  {
   "cell_type": "code",
   "execution_count": 2,
   "id": "c7b11eb4",
   "metadata": {},
   "outputs": [
    {
     "name": "stdout",
     "output_type": "stream",
     "text": [
      "請輸入一正整數:10\n",
      "55\n"
     ]
    }
   ],
   "source": [
    "a = int(input(\"請輸入一正整數:\"))\n",
    "total = 0\n",
    "for i in range (a+1):\n",
    "    total += i\n",
    "        \n",
    "print(total)"
   ]
  },
  {
   "cell_type": "code",
   "execution_count": 51,
   "id": "1156a712",
   "metadata": {},
   "outputs": [
    {
     "name": "stdout",
     "output_type": "stream",
     "text": [
      "1 X 1 =  1   1 X 2 =  2   1 X 3 =  3   1 X 4 =  4   1 X 5 =  5   1 X 6 =  6   1 X 7 =  7   1 X 8 =  8   1 X 9 =  9   \n",
      "\n",
      "2 X 1 =  2   2 X 2 =  4   2 X 3 =  6   2 X 4 =  8   2 X 5 = 10   2 X 6 = 12   2 X 7 = 14   2 X 8 = 16   2 X 9 = 18   \n",
      "\n",
      "3 X 1 =  3   3 X 2 =  6   3 X 3 =  9   3 X 4 = 12   3 X 5 = 15   3 X 6 = 18   3 X 7 = 21   3 X 8 = 24   3 X 9 = 27   \n",
      "\n",
      "4 X 1 =  4   4 X 2 =  8   4 X 3 = 12   4 X 4 = 16   4 X 5 = 20   4 X 6 = 24   4 X 7 = 28   4 X 8 = 32   4 X 9 = 36   \n",
      "\n",
      "5 X 1 =  5   5 X 2 = 10   5 X 3 = 15   5 X 4 = 20   5 X 5 = 25   5 X 6 = 30   5 X 7 = 35   5 X 8 = 40   5 X 9 = 45   \n",
      "\n",
      "6 X 1 =  6   6 X 2 = 12   6 X 3 = 18   6 X 4 = 24   6 X 5 = 30   6 X 6 = 36   6 X 7 = 42   6 X 8 = 48   6 X 9 = 54   \n",
      "\n",
      "7 X 1 =  7   7 X 2 = 14   7 X 3 = 21   7 X 4 = 28   7 X 5 = 35   7 X 6 = 42   7 X 7 = 49   7 X 8 = 56   7 X 9 = 63   \n",
      "\n",
      "8 X 1 =  8   8 X 2 = 16   8 X 3 = 24   8 X 4 = 32   8 X 5 = 40   8 X 6 = 48   8 X 7 = 56   8 X 8 = 64   8 X 9 = 72   \n",
      "\n",
      "9 X 1 =  9   9 X 2 = 18   9 X 3 = 27   9 X 4 = 36   9 X 5 = 45   9 X 6 = 54   9 X 7 = 63   9 X 8 = 72   9 X 9 = 81   \n",
      "\n"
     ]
    }
   ],
   "source": [
    "for i in range(1,10):\n",
    "    for j in range(1,10):\n",
    "        if i*j<10:\n",
    "            k=' '+str(i*j)+'  '\n",
    "        else:\n",
    "            k=''+str(i*j)+'  '\n",
    "               \n",
    "        print (\"{} X {} = {}\".format(i, j, k), end =\" \")\n",
    "    print(\"\\n\")"
   ]
  }
 ],
 "metadata": {
  "kernelspec": {
   "display_name": "Python 3",
   "language": "python",
   "name": "python3"
  },
  "language_info": {
   "codemirror_mode": {
    "name": "ipython",
    "version": 3
   },
   "file_extension": ".py",
   "mimetype": "text/x-python",
   "name": "python",
   "nbconvert_exporter": "python",
   "pygments_lexer": "ipython3",
   "version": "3.8.8"
  }
 },
 "nbformat": 4,
 "nbformat_minor": 5
}
